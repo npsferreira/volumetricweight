{
 "cells": [
  {
   "cell_type": "markdown",
   "metadata": {},
   "source": [
    "# Process CTT Package"
   ]
  },
  {
   "cell_type": "code",
   "execution_count": 7,
   "metadata": {},
   "outputs": [
    {
     "name": "stdout",
     "output_type": "stream",
     "text": [
      "Doing sliding window: resources/volumeimages/side3.JPG\n",
      "Doing sliding window: resources/volumeimages/top3.jpg\n",
      "{\"sideImg\": \"resources/volumeimages/side3.JPG\", \"topImg\": \"resources/volumeimages/top3.jpg\", \"BARCODES\": \"Not founded\", \"ADDRESS\": [\"4470-136\", \"R. Padre Ant\\u00f3nio,Ed. Herreras,salas 1/2\", \"RestOfTheWorld\"], \"VOLUMETRIC_HEIGHT (Kg)\": 2.0}\n"
     ]
    }
   ],
   "source": [
    "import json\n",
    "import cv2\n",
    "from utils.barcodeutils import findBarCode\n",
    "from utils.cttutils import findPackageInformation\n",
    "from utils.cttutils import calculateVolumeWeight\n",
    "from utils.cttutils import getDimensions\n",
    "from utils.imageutils import displayImage\n",
    "\n",
    "\n",
    "sidePackageImgPath = 'resources/volumeimages/side3.JPG'\n",
    "topPackageImgPath = 'resources/volumeimages/top3.jpg'\n",
    "\n",
    "results = {}\n",
    "\n",
    "results['sideImg'] = sidePackageImgPath\n",
    "results['topImg'] = topPackageImgPath\n",
    "\n",
    "#determine the barcodes from images passed\n",
    "barcodes = []\n",
    "barcodes.extend(findBarCode(sidePackageImgPath));\n",
    "barcodes.extend(findBarCode(topPackageImgPath));\n",
    "\n",
    "if len(barcodes) == 0:\n",
    "    results[\"BARCODES\"]= \"Not founded\"\n",
    "else:\n",
    "    results[\"BARCODES\"]= barcodes\n",
    "    \n",
    "#determine the address based on the barcodes\n",
    "address = findPackageInformation(results[\"BARCODES\"][0]) #Assume the first barcode encountered for example purposes\n",
    "\n",
    "if len(address) == 0:\n",
    "    results[\"ADDRESS\"]= \"Not founded\"\n",
    "else:\n",
    "    results[\"ADDRESS\"]= address\n",
    "\n",
    "if len(results[\"ADDRESS\"]) > 2:\n",
    "    destination = results[\"ADDRESS\"][2]\n",
    "    \n",
    "# calculate the dimensions of the package\n",
    "sideImg = cv2.imread(sidePackageImgPath)\n",
    "topImg = cv2.imread(topPackageImgPath)\n",
    "\n",
    "\n",
    "length, width, height = getDimensions(sideImg, topImg)\n",
    "\n",
    "#print(length, width, height)\n",
    "#calculate the volumetric weight of the package\n",
    "#height, width, length = 66, 30, 15\n",
    "results[\"VOLUMETRIC_HEIGHT (Kg)\"] = calculateVolumeWeight(height, width, length, destination)\n",
    "\n",
    "print(json.dumps(results))"
   ]
  },
  {
   "cell_type": "code",
   "execution_count": null,
   "metadata": {},
   "outputs": [],
   "source": []
  }
 ],
 "metadata": {
  "kernelspec": {
   "display_name": "Python 3",
   "language": "python",
   "name": "python3"
  },
  "language_info": {
   "codemirror_mode": {
    "name": "ipython",
    "version": 3
   },
   "file_extension": ".py",
   "mimetype": "text/x-python",
   "name": "python",
   "nbconvert_exporter": "python",
   "pygments_lexer": "ipython3",
   "version": "3.6.4"
  }
 },
 "nbformat": 4,
 "nbformat_minor": 2
}
