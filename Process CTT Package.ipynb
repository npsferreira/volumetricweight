{
 "cells": [
  {
   "cell_type": "markdown",
   "metadata": {},
   "source": [
    "# Process CTT Package"
   ]
  },
  {
   "cell_type": "code",
   "execution_count": 3,
   "metadata": {},
   "outputs": [
    {
     "name": "stdout",
     "output_type": "stream",
     "text": [
      "66\n"
     ]
    }
   ],
   "source": [
    "import json\n",
    "from utils.barcodeutils import findBarCode\n",
    "from utils.cttutils import findPackageInformation\n",
    "from utils.cttutils import calculateVolumeWeight\n",
    "\n",
    "sidePackageImgPath = 'resources/barcodeImages/1AC4455E.jpg'\n",
    "topPackageImgPath = 'resources/barcodeImages/1AC4455E.jpg'\n",
    "\n",
    "results = {}\n",
    "\n",
    "results['sideImg'] = sidePackageImgPath\n",
    "results['topImg'] = topPackageImgPath\n",
    "\n",
    "#determine the barcodes from images passed\n",
    "barcodes = []\n",
    "barcodes.extend(findBarCode(sidePackageImgPath));\n",
    "barcodes.extend(findBarCode(topPackageImgPath));\n",
    "\n",
    "if len(barcodes) == 0:\n",
    "    results[\"BARCODES\"]= \"Not founded\"\n",
    "else:\n",
    "    results[\"BARCODES\"]= barcodes\n",
    "    \n",
    "#determine the address based on the barcodes\n",
    "address = findPackageInformation(results[\"BARCODES\"][0]) #Assume the first barcode encountered for example purposes\n",
    "\n",
    "if len(address) == 0:\n",
    "    results[\"ADDRESS\"]= \"Not founded\"\n",
    "else:\n",
    "    results[\"ADDRESS\"]= address\n",
    "\n",
    "if len(results[\"ADDRESS\"]) > 2:\n",
    "    destination = results[\"ADDRESS\"][2]\n",
    "    \n",
    "# calculate the dimensions of the package\n",
    "\n",
    "\n",
    "#calculate the volumetric weight of the package\n",
    "height, width, length = 66, 30, 15\n",
    "results[\"VOLUMETRIC_HEIGHT (Kg)\"] = calculateVolumeWeight(height, width, length, destination)\n",
    "\n",
    "print(json.dumps(results))"
   ]
  }
 ],
 "metadata": {
  "kernelspec": {
   "display_name": "Python 3",
   "language": "python",
   "name": "python3"
  },
  "language_info": {
   "codemirror_mode": {
    "name": "ipython",
    "version": 3
   },
   "file_extension": ".py",
   "mimetype": "text/x-python",
   "name": "python",
   "nbconvert_exporter": "python",
   "pygments_lexer": "ipython3",
   "version": "3.6.4"
  }
 },
 "nbformat": 4,
 "nbformat_minor": 2
}
