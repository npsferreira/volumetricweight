{
 "cells": [
  {
   "cell_type": "markdown",
   "metadata": {},
   "source": [
    "# Process CTT Package"
   ]
  },
  {
   "cell_type": "code",
   "execution_count": 1,
   "metadata": {},
   "outputs": [
    {
     "ename": "ImportError",
     "evalue": "cannot import name 'calculateDimensions'",
     "output_type": "error",
     "traceback": [
      "\u001b[1;31m---------------------------------------------------------------------------\u001b[0m",
      "\u001b[1;31mImportError\u001b[0m                               Traceback (most recent call last)",
      "\u001b[1;32m<ipython-input-1-0bfb8d1b62d0>\u001b[0m in \u001b[0;36m<module>\u001b[1;34m()\u001b[0m\n\u001b[0;32m      4\u001b[0m \u001b[1;32mfrom\u001b[0m \u001b[0mutils\u001b[0m\u001b[1;33m.\u001b[0m\u001b[0mcttutils\u001b[0m \u001b[1;32mimport\u001b[0m \u001b[0mfindPackageInformation\u001b[0m\u001b[1;33m\u001b[0m\u001b[0m\n\u001b[0;32m      5\u001b[0m \u001b[1;32mfrom\u001b[0m \u001b[0mutils\u001b[0m\u001b[1;33m.\u001b[0m\u001b[0mcttutils\u001b[0m \u001b[1;32mimport\u001b[0m \u001b[0mcalculateVolumeWeight\u001b[0m\u001b[1;33m\u001b[0m\u001b[0m\n\u001b[1;32m----> 6\u001b[1;33m \u001b[1;32mfrom\u001b[0m \u001b[0mutils\u001b[0m\u001b[1;33m.\u001b[0m\u001b[0mcttutils\u001b[0m \u001b[1;32mimport\u001b[0m \u001b[0mcalculateDimensions\u001b[0m\u001b[1;33m\u001b[0m\u001b[0m\n\u001b[0m\u001b[0;32m      7\u001b[0m \u001b[1;32mfrom\u001b[0m \u001b[0mutils\u001b[0m\u001b[1;33m.\u001b[0m\u001b[0mimageutils\u001b[0m \u001b[1;32mimport\u001b[0m \u001b[0mdisplayImage\u001b[0m\u001b[1;33m\u001b[0m\u001b[0m\n\u001b[0;32m      8\u001b[0m \u001b[1;33m\u001b[0m\u001b[0m\n",
      "\u001b[1;31mImportError\u001b[0m: cannot import name 'calculateDimensions'"
     ]
    }
   ],
   "source": [
    "import json\n",
    "import cv2\n",
    "from utils.barcodeutils import findBarCode\n",
    "from utils.cttutils import findPackageInformation\n",
    "from utils.cttutils import calculateVolumeWeight\n",
    "from utils.cttutils import calculateDimensions\n",
    "from utils.imageutils import displayImage\n",
    "\n",
    "\n",
    "sidePackageImgPath = 'resources/barcodeImages/1AC4455E.jpg'\n",
    "topPackageImgPath = 'resources/barcodeImages/1AC4455E.jpg'\n",
    "\n",
    "results = {}\n",
    "\n",
    "results['sideImg'] = sidePackageImgPath\n",
    "results['topImg'] = topPackageImgPath\n",
    "\n",
    "#determine the barcodes from images passed\n",
    "barcodes = []\n",
    "barcodes.extend(findBarCode(sidePackageImgPath));\n",
    "barcodes.extend(findBarCode(topPackageImgPath));\n",
    "\n",
    "if len(barcodes) == 0:\n",
    "    results[\"BARCODES\"]= \"Not founded\"\n",
    "else:\n",
    "    results[\"BARCODES\"]= barcodes\n",
    "    \n",
    "#determine the address based on the barcodes\n",
    "address = findPackageInformation(results[\"BARCODES\"][0]) #Assume the first barcode encountered for example purposes\n",
    "\n",
    "if len(address) == 0:\n",
    "    results[\"ADDRESS\"]= \"Not founded\"\n",
    "else:\n",
    "    results[\"ADDRESS\"]= address\n",
    "\n",
    "if len(results[\"ADDRESS\"]) > 2:\n",
    "    destination = results[\"ADDRESS\"][2]\n",
    "    \n",
    "# calculate the dimensions of the package\n",
    "sideImg = cv2.imread(sidePackageImgPath)\n",
    "topImg = cv2.imread(topPackageImgPath)\n",
    "length, width, height = calculateDimensions(sideImg, topImg)\n",
    "\n",
    "\n",
    "#calculate the volumetric weight of the package\n",
    "#height, width, length = 66, 30, 15\n",
    "results[\"VOLUMETRIC_HEIGHT (Kg)\"] = calculateVolumeWeight(height, width, length, destination)\n",
    "\n",
    "print(json.dumps(results))"
   ]
  },
  {
   "cell_type": "code",
   "execution_count": null,
   "metadata": {},
   "outputs": [],
   "source": []
  }
 ],
 "metadata": {
  "kernelspec": {
   "display_name": "Python 3",
   "language": "python",
   "name": "python3"
  },
  "language_info": {
   "codemirror_mode": {
    "name": "ipython",
    "version": 3
   },
   "file_extension": ".py",
   "mimetype": "text/x-python",
   "name": "python",
   "nbconvert_exporter": "python",
   "pygments_lexer": "ipython3",
   "version": "3.6.4"
  }
 },
 "nbformat": 4,
 "nbformat_minor": 2
}
