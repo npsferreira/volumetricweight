{
 "cells": [
  {
   "cell_type": "markdown",
   "metadata": {},
   "source": [
    "# Process CTT Package"
   ]
  },
  {
   "cell_type": "code",
   "execution_count": 3,
   "metadata": {},
   "outputs": [
    {
     "name": "stdout",
     "output_type": "stream",
     "text": [
      "66\n"
     ]
    }
   ],
   "source": [
    "from utils.barcodeutils import findBarCode\n",
    "from utils.cttutils import findPackageInformation\n",
    "from utils.cttutils import calculateVolumeWeight\n",
    "\n",
    "sidePackageImgPath = ''\n",
    "topPackageImgPath = ''\n",
    "\n",
    "\n",
    "results = {}\n",
    "    \n",
    "#determine the barcodes from images passed\n",
    "barcodes = []\n",
    "barcodes.append(findBarCode(sidePackageImgPath));\n",
    "barcodes.append(findBarCode(topPackageImgPath));\n",
    "   \n",
    "if len(barcodes) == 0:\n",
    "    results.update({\"BARCODES : \", \"\"})\n",
    "else:\n",
    "    results.update(barcodes)\n",
    "        \n",
    "#determine the address based on the barcodes\n",
    "address = findPackageInformation(barcodes[0]) #Assume the first barcode encountered for example purposes\n",
    "\n",
    "if len(address) == 0:\n",
    "    results.update({\"ADDRESS : \", \"\"})\n",
    "else:\n",
    "    results.update(address)\n",
    "        \n",
    "# calculate the dimensions of the package\n",
    "    \n",
    "    \n",
    "#calculate the volumetric weight of the package\n",
    "#calculateVolumeWeight()\n",
    "\n",
    "\n",
    "\n"
   ]
  }
 ],
 "metadata": {
  "kernelspec": {
   "display_name": "Python 3",
   "language": "python",
   "name": "python3"
  },
  "language_info": {
   "codemirror_mode": {
    "name": "ipython",
    "version": 3
   },
   "file_extension": ".py",
   "mimetype": "text/x-python",
   "name": "python",
   "nbconvert_exporter": "python",
   "pygments_lexer": "ipython3",
   "version": "3.6.4"
  }
 },
 "nbformat": 4,
 "nbformat_minor": 2
}
